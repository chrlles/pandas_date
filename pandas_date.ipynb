{
 "cells": [
  {
   "cell_type": "code",
   "execution_count": 1,
   "id": "d9107656",
   "metadata": {},
   "outputs": [],
   "source": [
    "import pandas as pd\n",
    "import numpy as np"
   ]
  },
  {
   "cell_type": "code",
   "execution_count": 28,
   "id": "9577a1ad",
   "metadata": {},
   "outputs": [],
   "source": [
    "janeiro = pd.date_range('1/01/2022', periods=31)"
   ]
  },
  {
   "cell_type": "code",
   "execution_count": 29,
   "id": "f6e5de74",
   "metadata": {},
   "outputs": [
    {
     "data": {
      "text/plain": [
       "DatetimeIndex(['2022-01-01', '2022-01-02', '2022-01-03', '2022-01-04',\n",
       "               '2022-01-05', '2022-01-06', '2022-01-07', '2022-01-08',\n",
       "               '2022-01-09', '2022-01-10', '2022-01-11', '2022-01-12',\n",
       "               '2022-01-13', '2022-01-14', '2022-01-15', '2022-01-16',\n",
       "               '2022-01-17', '2022-01-18', '2022-01-19', '2022-01-20',\n",
       "               '2022-01-21', '2022-01-22', '2022-01-23', '2022-01-24',\n",
       "               '2022-01-25', '2022-01-26', '2022-01-27', '2022-01-28',\n",
       "               '2022-01-29', '2022-01-30', '2022-01-31'],\n",
       "              dtype='datetime64[ns]', freq='D')"
      ]
     },
     "execution_count": 29,
     "metadata": {},
     "output_type": "execute_result"
    }
   ],
   "source": [
    "janeiro"
   ]
  },
  {
   "cell_type": "code",
   "execution_count": 30,
   "id": "83e220d4",
   "metadata": {},
   "outputs": [],
   "source": [
    "dados = pd.DataFrame(np.random.randn(31,2),\n",
    "                     index=janeiro,\n",
    "                     columns=['Brasilia', 'Salvador']\n",
    "                    )"
   ]
  },
  {
   "cell_type": "code",
   "execution_count": 31,
   "id": "e0c4db8d",
   "metadata": {},
   "outputs": [
    {
     "data": {
      "text/html": [
       "<div>\n",
       "<style scoped>\n",
       "    .dataframe tbody tr th:only-of-type {\n",
       "        vertical-align: middle;\n",
       "    }\n",
       "\n",
       "    .dataframe tbody tr th {\n",
       "        vertical-align: top;\n",
       "    }\n",
       "\n",
       "    .dataframe thead th {\n",
       "        text-align: right;\n",
       "    }\n",
       "</style>\n",
       "<table border=\"1\" class=\"dataframe\">\n",
       "  <thead>\n",
       "    <tr style=\"text-align: right;\">\n",
       "      <th></th>\n",
       "      <th>Brasilia</th>\n",
       "      <th>Salvador</th>\n",
       "    </tr>\n",
       "  </thead>\n",
       "  <tbody>\n",
       "    <tr>\n",
       "      <th>2022-01-01</th>\n",
       "      <td>2.319138</td>\n",
       "      <td>1.369916</td>\n",
       "    </tr>\n",
       "    <tr>\n",
       "      <th>2022-01-02</th>\n",
       "      <td>0.172272</td>\n",
       "      <td>1.078622</td>\n",
       "    </tr>\n",
       "    <tr>\n",
       "      <th>2022-01-03</th>\n",
       "      <td>2.574964</td>\n",
       "      <td>-0.730057</td>\n",
       "    </tr>\n",
       "    <tr>\n",
       "      <th>2022-01-04</th>\n",
       "      <td>-0.561670</td>\n",
       "      <td>0.702672</td>\n",
       "    </tr>\n",
       "    <tr>\n",
       "      <th>2022-01-05</th>\n",
       "      <td>-1.548508</td>\n",
       "      <td>-0.507468</td>\n",
       "    </tr>\n",
       "    <tr>\n",
       "      <th>2022-01-06</th>\n",
       "      <td>1.134239</td>\n",
       "      <td>-1.559135</td>\n",
       "    </tr>\n",
       "    <tr>\n",
       "      <th>2022-01-07</th>\n",
       "      <td>1.440865</td>\n",
       "      <td>-0.802831</td>\n",
       "    </tr>\n",
       "    <tr>\n",
       "      <th>2022-01-08</th>\n",
       "      <td>-0.882445</td>\n",
       "      <td>-1.688650</td>\n",
       "    </tr>\n",
       "    <tr>\n",
       "      <th>2022-01-09</th>\n",
       "      <td>0.768751</td>\n",
       "      <td>-1.096881</td>\n",
       "    </tr>\n",
       "    <tr>\n",
       "      <th>2022-01-10</th>\n",
       "      <td>0.124474</td>\n",
       "      <td>0.085330</td>\n",
       "    </tr>\n",
       "    <tr>\n",
       "      <th>2022-01-11</th>\n",
       "      <td>-0.383330</td>\n",
       "      <td>0.062093</td>\n",
       "    </tr>\n",
       "    <tr>\n",
       "      <th>2022-01-12</th>\n",
       "      <td>-1.758234</td>\n",
       "      <td>-1.423901</td>\n",
       "    </tr>\n",
       "    <tr>\n",
       "      <th>2022-01-13</th>\n",
       "      <td>-0.786880</td>\n",
       "      <td>-0.603293</td>\n",
       "    </tr>\n",
       "    <tr>\n",
       "      <th>2022-01-14</th>\n",
       "      <td>0.046948</td>\n",
       "      <td>1.278743</td>\n",
       "    </tr>\n",
       "    <tr>\n",
       "      <th>2022-01-15</th>\n",
       "      <td>2.065125</td>\n",
       "      <td>0.114090</td>\n",
       "    </tr>\n",
       "    <tr>\n",
       "      <th>2022-01-16</th>\n",
       "      <td>0.248509</td>\n",
       "      <td>0.098475</td>\n",
       "    </tr>\n",
       "    <tr>\n",
       "      <th>2022-01-17</th>\n",
       "      <td>-3.026004</td>\n",
       "      <td>-0.342170</td>\n",
       "    </tr>\n",
       "    <tr>\n",
       "      <th>2022-01-18</th>\n",
       "      <td>0.881133</td>\n",
       "      <td>-0.032735</td>\n",
       "    </tr>\n",
       "    <tr>\n",
       "      <th>2022-01-19</th>\n",
       "      <td>0.109595</td>\n",
       "      <td>-0.006661</td>\n",
       "    </tr>\n",
       "    <tr>\n",
       "      <th>2022-01-20</th>\n",
       "      <td>-0.220498</td>\n",
       "      <td>0.272578</td>\n",
       "    </tr>\n",
       "    <tr>\n",
       "      <th>2022-01-21</th>\n",
       "      <td>-1.062392</td>\n",
       "      <td>0.255474</td>\n",
       "    </tr>\n",
       "    <tr>\n",
       "      <th>2022-01-22</th>\n",
       "      <td>0.162222</td>\n",
       "      <td>0.843021</td>\n",
       "    </tr>\n",
       "    <tr>\n",
       "      <th>2022-01-23</th>\n",
       "      <td>-2.218454</td>\n",
       "      <td>-1.669602</td>\n",
       "    </tr>\n",
       "    <tr>\n",
       "      <th>2022-01-24</th>\n",
       "      <td>0.388970</td>\n",
       "      <td>-1.023705</td>\n",
       "    </tr>\n",
       "    <tr>\n",
       "      <th>2022-01-25</th>\n",
       "      <td>-0.650107</td>\n",
       "      <td>-2.396790</td>\n",
       "    </tr>\n",
       "    <tr>\n",
       "      <th>2022-01-26</th>\n",
       "      <td>-0.190762</td>\n",
       "      <td>0.940890</td>\n",
       "    </tr>\n",
       "    <tr>\n",
       "      <th>2022-01-27</th>\n",
       "      <td>2.162245</td>\n",
       "      <td>-0.693921</td>\n",
       "    </tr>\n",
       "    <tr>\n",
       "      <th>2022-01-28</th>\n",
       "      <td>0.807798</td>\n",
       "      <td>-0.335864</td>\n",
       "    </tr>\n",
       "    <tr>\n",
       "      <th>2022-01-29</th>\n",
       "      <td>0.770469</td>\n",
       "      <td>0.182437</td>\n",
       "    </tr>\n",
       "    <tr>\n",
       "      <th>2022-01-30</th>\n",
       "      <td>-2.406645</td>\n",
       "      <td>0.241577</td>\n",
       "    </tr>\n",
       "    <tr>\n",
       "      <th>2022-01-31</th>\n",
       "      <td>0.581800</td>\n",
       "      <td>1.499142</td>\n",
       "    </tr>\n",
       "  </tbody>\n",
       "</table>\n",
       "</div>"
      ],
      "text/plain": [
       "            Brasilia  Salvador\n",
       "2022-01-01  2.319138  1.369916\n",
       "2022-01-02  0.172272  1.078622\n",
       "2022-01-03  2.574964 -0.730057\n",
       "2022-01-04 -0.561670  0.702672\n",
       "2022-01-05 -1.548508 -0.507468\n",
       "2022-01-06  1.134239 -1.559135\n",
       "2022-01-07  1.440865 -0.802831\n",
       "2022-01-08 -0.882445 -1.688650\n",
       "2022-01-09  0.768751 -1.096881\n",
       "2022-01-10  0.124474  0.085330\n",
       "2022-01-11 -0.383330  0.062093\n",
       "2022-01-12 -1.758234 -1.423901\n",
       "2022-01-13 -0.786880 -0.603293\n",
       "2022-01-14  0.046948  1.278743\n",
       "2022-01-15  2.065125  0.114090\n",
       "2022-01-16  0.248509  0.098475\n",
       "2022-01-17 -3.026004 -0.342170\n",
       "2022-01-18  0.881133 -0.032735\n",
       "2022-01-19  0.109595 -0.006661\n",
       "2022-01-20 -0.220498  0.272578\n",
       "2022-01-21 -1.062392  0.255474\n",
       "2022-01-22  0.162222  0.843021\n",
       "2022-01-23 -2.218454 -1.669602\n",
       "2022-01-24  0.388970 -1.023705\n",
       "2022-01-25 -0.650107 -2.396790\n",
       "2022-01-26 -0.190762  0.940890\n",
       "2022-01-27  2.162245 -0.693921\n",
       "2022-01-28  0.807798 -0.335864\n",
       "2022-01-29  0.770469  0.182437\n",
       "2022-01-30 -2.406645  0.241577\n",
       "2022-01-31  0.581800  1.499142"
      ]
     },
     "execution_count": 31,
     "metadata": {},
     "output_type": "execute_result"
    }
   ],
   "source": [
    "dados"
   ]
  },
  {
   "cell_type": "code",
   "execution_count": 32,
   "id": "fdf4d1e2",
   "metadata": {},
   "outputs": [
    {
     "data": {
      "text/plain": [
       "Brasilia    0.388970\n",
       "Salvador   -1.023705\n",
       "Name: 2022-01-24 00:00:00, dtype: float64"
      ]
     },
     "execution_count": 32,
     "metadata": {},
     "output_type": "execute_result"
    }
   ],
   "source": [
    "dados.loc['2022-01-24']"
   ]
  },
  {
   "cell_type": "code",
   "execution_count": 38,
   "id": "043822e0",
   "metadata": {},
   "outputs": [
    {
     "data": {
      "text/plain": [
       "DatetimeIndex(['2021-01-29', '2021-02-26', '2021-03-31', '2021-04-30',\n",
       "               '2021-05-31', '2021-06-30', '2021-07-30', '2021-08-31',\n",
       "               '2021-09-30', '2021-10-29', '2021-11-30'],\n",
       "              dtype='datetime64[ns]', freq='BM')"
      ]
     },
     "execution_count": 38,
     "metadata": {},
     "output_type": "execute_result"
    }
   ],
   "source": [
    "pd.date_range('2021/01/01', '2021/12/01', freq='BM')"
   ]
  },
  {
   "cell_type": "code",
   "execution_count": 40,
   "id": "b47d7fd7",
   "metadata": {},
   "outputs": [
    {
     "data": {
      "text/plain": [
       "DatetimeIndex(['2010-12-31', '2011-12-31', '2012-12-31', '2013-12-31',\n",
       "               '2014-12-31', '2015-12-31', '2016-12-31', '2017-12-31',\n",
       "               '2018-12-31', '2019-12-31'],\n",
       "              dtype='datetime64[ns]', freq='A-DEC')"
      ]
     },
     "execution_count": 40,
     "metadata": {},
     "output_type": "execute_result"
    }
   ],
   "source": [
    "pd.date_range('1/01/2010', '1/01/2020', freq='y')"
   ]
  },
  {
   "cell_type": "code",
   "execution_count": 2,
   "id": "adde8f6a",
   "metadata": {},
   "outputs": [
    {
     "data": {
      "text/plain": [
       "DatetimeIndex(['2000-01-01 00:00:00', '2000-01-01 01:00:00',\n",
       "               '2000-01-01 02:00:00', '2000-01-01 03:00:00',\n",
       "               '2000-01-01 04:00:00', '2000-01-01 05:00:00',\n",
       "               '2000-01-01 06:00:00', '2000-01-01 07:00:00',\n",
       "               '2000-01-01 08:00:00', '2000-01-01 09:00:00',\n",
       "               '2000-01-01 10:00:00', '2000-01-01 11:00:00',\n",
       "               '2000-01-01 12:00:00', '2000-01-01 13:00:00',\n",
       "               '2000-01-01 14:00:00', '2000-01-01 15:00:00',\n",
       "               '2000-01-01 16:00:00', '2000-01-01 17:00:00',\n",
       "               '2000-01-01 18:00:00', '2000-01-01 19:00:00',\n",
       "               '2000-01-01 20:00:00', '2000-01-01 21:00:00',\n",
       "               '2000-01-01 22:00:00', '2000-01-01 23:00:00',\n",
       "               '2000-01-02 00:00:00', '2000-01-02 01:00:00',\n",
       "               '2000-01-02 02:00:00', '2000-01-02 03:00:00',\n",
       "               '2000-01-02 04:00:00', '2000-01-02 05:00:00',\n",
       "               '2000-01-02 06:00:00', '2000-01-02 07:00:00',\n",
       "               '2000-01-02 08:00:00', '2000-01-02 09:00:00',\n",
       "               '2000-01-02 10:00:00', '2000-01-02 11:00:00',\n",
       "               '2000-01-02 12:00:00', '2000-01-02 13:00:00',\n",
       "               '2000-01-02 14:00:00', '2000-01-02 15:00:00',\n",
       "               '2000-01-02 16:00:00', '2000-01-02 17:00:00',\n",
       "               '2000-01-02 18:00:00', '2000-01-02 19:00:00',\n",
       "               '2000-01-02 20:00:00', '2000-01-02 21:00:00',\n",
       "               '2000-01-02 22:00:00', '2000-01-02 23:00:00',\n",
       "               '2000-01-03 00:00:00', '2000-01-03 01:00:00',\n",
       "               '2000-01-03 02:00:00', '2000-01-03 03:00:00',\n",
       "               '2000-01-03 04:00:00', '2000-01-03 05:00:00',\n",
       "               '2000-01-03 06:00:00', '2000-01-03 07:00:00',\n",
       "               '2000-01-03 08:00:00', '2000-01-03 09:00:00',\n",
       "               '2000-01-03 10:00:00', '2000-01-03 11:00:00',\n",
       "               '2000-01-03 12:00:00', '2000-01-03 13:00:00',\n",
       "               '2000-01-03 14:00:00', '2000-01-03 15:00:00',\n",
       "               '2000-01-03 16:00:00', '2000-01-03 17:00:00',\n",
       "               '2000-01-03 18:00:00', '2000-01-03 19:00:00',\n",
       "               '2000-01-03 20:00:00', '2000-01-03 21:00:00',\n",
       "               '2000-01-03 22:00:00', '2000-01-03 23:00:00'],\n",
       "              dtype='datetime64[ns]', freq='60T')"
      ]
     },
     "execution_count": 2,
     "metadata": {},
     "output_type": "execute_result"
    }
   ],
   "source": [
    "pd.date_range('2000-01-01', '2000-01-03 23:59', freq='60min')"
   ]
  },
  {
   "cell_type": "code",
   "execution_count": 3,
   "id": "f2bf7fba",
   "metadata": {},
   "outputs": [
    {
     "data": {
      "text/plain": [
       "DatetimeIndex(['2022-01-01', '2022-01-02', '2022-01-03', '2022-01-04',\n",
       "               '2022-01-05', '2022-01-06', '2022-01-07', '2022-01-08',\n",
       "               '2022-01-09', '2022-01-10', '2022-01-11', '2022-01-12',\n",
       "               '2022-01-13', '2022-01-14', '2022-01-15', '2022-01-16',\n",
       "               '2022-01-17', '2022-01-18', '2022-01-19', '2022-01-20',\n",
       "               '2022-01-21', '2022-01-22', '2022-01-23', '2022-01-24',\n",
       "               '2022-01-25', '2022-01-26', '2022-01-27', '2022-01-28',\n",
       "               '2022-01-29', '2022-01-30', '2022-01-31', '2022-02-01',\n",
       "               '2022-02-02', '2022-02-03', '2022-02-04', '2022-02-05',\n",
       "               '2022-02-06', '2022-02-07', '2022-02-08', '2022-02-09',\n",
       "               '2022-02-10', '2022-02-11', '2022-02-12', '2022-02-13',\n",
       "               '2022-02-14', '2022-02-15', '2022-02-16', '2022-02-17',\n",
       "               '2022-02-18', '2022-02-19', '2022-02-20', '2022-02-21',\n",
       "               '2022-02-22', '2022-02-23', '2022-02-24', '2022-02-25',\n",
       "               '2022-02-26', '2022-02-27', '2022-02-28', '2022-03-01',\n",
       "               '2022-03-02', '2022-03-03', '2022-03-04', '2022-03-05',\n",
       "               '2022-03-06', '2022-03-07', '2022-03-08', '2022-03-09',\n",
       "               '2022-03-10', '2022-03-11', '2022-03-12', '2022-03-13'],\n",
       "              dtype='datetime64[ns]', freq='D')"
      ]
     },
     "execution_count": 3,
     "metadata": {},
     "output_type": "execute_result"
    }
   ],
   "source": [
    "pd.date_range(start='1/01/2022', end='13/03/2022')"
   ]
  },
  {
   "cell_type": "code",
   "execution_count": 4,
   "id": "55c33d5d",
   "metadata": {},
   "outputs": [
    {
     "data": {
      "text/plain": [
       "DatetimeIndex(['2022-03-13', '2022-03-14', '2022-03-15', '2022-03-16',\n",
       "               '2022-03-17', '2022-03-18', '2022-03-19'],\n",
       "              dtype='datetime64[ns]', freq='D')"
      ]
     },
     "execution_count": 4,
     "metadata": {},
     "output_type": "execute_result"
    }
   ],
   "source": [
    "pd.date_range('13/03/2022', periods=7)"
   ]
  },
  {
   "cell_type": "code",
   "execution_count": 6,
   "id": "c1f734f1",
   "metadata": {},
   "outputs": [
    {
     "data": {
      "text/plain": [
       "DatetimeIndex(['2022-01-31', '2022-02-28', '2022-03-31', '2022-04-30',\n",
       "               '2022-05-31', '2022-06-30', '2022-07-31', '2022-08-31',\n",
       "               '2022-09-30', '2022-10-31', '2022-11-30', '2022-12-31'],\n",
       "              dtype='datetime64[ns]', freq='M')"
      ]
     },
     "execution_count": 6,
     "metadata": {},
     "output_type": "execute_result"
    }
   ],
   "source": [
    "pd.date_range(start='01/01/2022', freq='M', periods=12)"
   ]
  },
  {
   "cell_type": "code",
   "execution_count": 7,
   "id": "70bd55d8",
   "metadata": {},
   "outputs": [
    {
     "data": {
      "text/plain": [
       "DatetimeIndex(['2021-01-31', '2021-02-28', '2021-03-31', '2021-04-30',\n",
       "               '2021-05-31', '2021-06-30', '2021-07-31', '2021-08-31',\n",
       "               '2021-09-30', '2021-10-31', '2021-11-30', '2021-12-31'],\n",
       "              dtype='datetime64[ns]', freq='M')"
      ]
     },
     "execution_count": 7,
     "metadata": {},
     "output_type": "execute_result"
    }
   ],
   "source": [
    "pd.date_range(end='01/01/2022', freq='M', periods=12)"
   ]
  },
  {
   "cell_type": "markdown",
   "id": "6b213a1b",
   "metadata": {},
   "source": [
    "### pd.period_range"
   ]
  },
  {
   "cell_type": "code",
   "execution_count": 13,
   "id": "68fb56cf",
   "metadata": {},
   "outputs": [
    {
     "data": {
      "text/plain": [
       "PeriodIndex(['2020-01', '2020-02', '2020-03', '2020-04', '2020-05', '2020-06',\n",
       "             '2020-07', '2020-08', '2020-09', '2020-10', '2020-11', '2020-12',\n",
       "             '2021-01'],\n",
       "            dtype='period[M]', freq='M')"
      ]
     },
     "execution_count": 13,
     "metadata": {},
     "output_type": "execute_result"
    }
   ],
   "source": [
    "pd.period_range(start='01-01-2020', end='01-01-2021', freq='M')"
   ]
  },
  {
   "cell_type": "markdown",
   "id": "df05e41d",
   "metadata": {},
   "source": [
    "### pd.to_timedelta"
   ]
  },
  {
   "cell_type": "code",
   "execution_count": 15,
   "id": "0fcbad2f",
   "metadata": {},
   "outputs": [
    {
     "data": {
      "text/plain": [
       "TimedeltaIndex([ '0 days',  '1 days',  '2 days',  '3 days',  '4 days',\n",
       "                 '5 days',  '6 days',  '7 days',  '8 days',  '9 days',\n",
       "                '10 days', '11 days', '12 days', '13 days', '14 days',\n",
       "                '15 days', '16 days'],\n",
       "               dtype='timedelta64[ns]', freq=None)"
      ]
     },
     "execution_count": 15,
     "metadata": {},
     "output_type": "execute_result"
    }
   ],
   "source": [
    "pd.to_timedelta(np.arange(17), unit='d')"
   ]
  },
  {
   "cell_type": "code",
   "execution_count": 14,
   "id": "9495885a",
   "metadata": {},
   "outputs": [
    {
     "data": {
      "text/plain": [
       "TimedeltaIndex(['0 days 00:00:00', '0 days 00:00:01', '0 days 00:00:02',\n",
       "                '0 days 00:00:03', '0 days 00:00:04', '0 days 00:00:05',\n",
       "                '0 days 00:00:06'],\n",
       "               dtype='timedelta64[ns]', freq=None)"
      ]
     },
     "execution_count": 14,
     "metadata": {},
     "output_type": "execute_result"
    }
   ],
   "source": [
    "pd.to_timedelta(np.arange(7), unit='s')"
   ]
  },
  {
   "cell_type": "code",
   "execution_count": 16,
   "id": "36499cc6",
   "metadata": {},
   "outputs": [
    {
     "data": {
      "text/plain": [
       "TimedeltaIndex(['0 days 00:00:00', '0 days 00:01:00', '0 days 00:02:00',\n",
       "                '0 days 00:03:00', '0 days 00:04:00', '0 days 00:05:00',\n",
       "                '0 days 00:06:00', '0 days 00:07:00', '0 days 00:08:00',\n",
       "                '0 days 00:09:00', '0 days 00:10:00', '0 days 00:11:00'],\n",
       "               dtype='timedelta64[ns]', freq=None)"
      ]
     },
     "execution_count": 16,
     "metadata": {},
     "output_type": "execute_result"
    }
   ],
   "source": [
    "pd.to_timedelta(np.arange(12), unit='m')"
   ]
  },
  {
   "cell_type": "code",
   "execution_count": 22,
   "id": "6645ea41",
   "metadata": {},
   "outputs": [
    {
     "data": {
      "text/plain": [
       "TimedeltaIndex(['0 days 00:00:00', '0 days 01:00:00', '0 days 02:00:00',\n",
       "                '0 days 03:00:00', '0 days 04:00:00', '0 days 05:00:00',\n",
       "                '0 days 06:00:00', '0 days 07:00:00', '0 days 08:00:00',\n",
       "                '0 days 09:00:00', '0 days 10:00:00', '0 days 11:00:00'],\n",
       "               dtype='timedelta64[ns]', freq=None)"
      ]
     },
     "execution_count": 22,
     "metadata": {},
     "output_type": "execute_result"
    }
   ],
   "source": [
    "pd.to_timedelta(np.arange(12), unit='H')"
   ]
  },
  {
   "cell_type": "code",
   "execution_count": null,
   "id": "4326bba6",
   "metadata": {},
   "outputs": [],
   "source": []
  },
  {
   "cell_type": "markdown",
   "id": "37f728f0",
   "metadata": {},
   "source": [
    "https://pandas.pydata.org/docs/reference/api/pandas.date_range.html\n",
    "https://pandas.pydata.org/docs/reference/api/pandas.period_range.html#pandas.period_range\n",
    "https://pandas.pydata.org/docs/reference/api/pandas.to_timedelta.html"
   ]
  },
  {
   "cell_type": "code",
   "execution_count": null,
   "id": "6f6c6409",
   "metadata": {},
   "outputs": [],
   "source": []
  }
 ],
 "metadata": {
  "kernelspec": {
   "display_name": "Python 3",
   "language": "python",
   "name": "python3"
  },
  "language_info": {
   "codemirror_mode": {
    "name": "ipython",
    "version": 3
   },
   "file_extension": ".py",
   "mimetype": "text/x-python",
   "name": "python",
   "nbconvert_exporter": "python",
   "pygments_lexer": "ipython3",
   "version": "3.8.8"
  }
 },
 "nbformat": 4,
 "nbformat_minor": 5
}
